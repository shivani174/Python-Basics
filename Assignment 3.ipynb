{
 "cells": [
  {
   "cell_type": "code",
   "execution_count": null,
   "id": "8332150c",
   "metadata": {},
   "outputs": [],
   "source": [
    "\"\"\"\n",
    "1. Why are functions advantageous to have in your programs?\n",
    "\n",
    "Ans: 1) Function can make code shorter.\n",
    "     2) It deminishes the repetition of lines.\n",
    "     3) It increases the readability of the program.\n",
    "     4) We can resuse the piece of code.\n",
    "\"\"\""
   ]
  },
  {
   "cell_type": "code",
   "execution_count": null,
   "id": "f0ff2691",
   "metadata": {},
   "outputs": [],
   "source": [
    "\"\"\"\n",
    "2. When does the code in a function run: when it's specified or when it's called?\n",
    "Ans: The code in a function run when the function in called.\n",
    "\n",
    "\"\"\""
   ]
  },
  {
   "cell_type": "code",
   "execution_count": null,
   "id": "e5b57e8b",
   "metadata": {},
   "outputs": [],
   "source": [
    "\"\"\"\n",
    "3. What statement creates a function?\n",
    "Ans: def keyword is a statement which creates a function.\n",
    "\n",
    "\n",
    "\"\"\""
   ]
  },
  {
   "cell_type": "code",
   "execution_count": null,
   "id": "c8065632",
   "metadata": {},
   "outputs": [],
   "source": [
    "\"\"\"\n",
    "4. What is the difference between a function and a function call?\n",
    "Ans: A function is a block of code and function has its name and parameters as well. We create function by making\n",
    "     use of def keyword. whereas function calling means whenever we want to run the code or get the result we call\n",
    "     the function. At the time of function calling we mention semicolon whereas we don't meantion semicolon when we\n",
    "     create function. If we are not calling the function if we have created the one in program then there is no need\n",
    "     to create the function.\n",
    "\"\"\""
   ]
  },
  {
   "cell_type": "code",
   "execution_count": null,
   "id": "61d9269c",
   "metadata": {},
   "outputs": [],
   "source": [
    "\"\"\"\n",
    "5. How many global scopes are there in a Python program? How many local scopes?\n",
    "Ans: \n",
    "              There is only one global scope in a Python program.\n",
    "              There is only one local scope in a Python program.\n",
    "\"\"\""
   ]
  },
  {
   "cell_type": "code",
   "execution_count": null,
   "id": "80079815",
   "metadata": {},
   "outputs": [],
   "source": [
    "\"\"\"\n",
    "6. What happens to variables in a local scope when the function call returns?\n",
    "\n",
    "Ans: \n",
    "              When the function call returns, the local variables get destroyed.\n",
    "\n",
    "\"\"\""
   ]
  },
  {
   "cell_type": "code",
   "execution_count": null,
   "id": "3b839f8c",
   "metadata": {},
   "outputs": [],
   "source": [
    "\"\"\"\n",
    "7. What is the concept of a return value? Is it possible to have a return value in an expression?\n",
    "\n",
    "Ans:   \n",
    "       The concept behind return value is just as it sounds, when function return the value this means particular \n",
    "       function has completed.\n",
    "        \n",
    "\n",
    "\"\"\""
   ]
  },
  {
   "cell_type": "code",
   "execution_count": null,
   "id": "16a0ba01",
   "metadata": {},
   "outputs": [],
   "source": [
    "\"\"\"\n",
    "8. If a function does not have a return statement, what is the return value of a call to that function?\n",
    "\n",
    "Ans: If a function does not have a return statement, None is the return value \n",
    "            \n",
    "\n",
    "\"\"\""
   ]
  },
  {
   "cell_type": "code",
   "execution_count": null,
   "id": "e1596cc8",
   "metadata": {},
   "outputs": [],
   "source": [
    "\"\"\"\n",
    "9. How do you make a function variable refer to the global variable?\n",
    "Ans:\n",
    "      we can make a function variable refer to the global variable by making use of global keyword.\n",
    "\n",
    "\"\"\""
   ]
  },
  {
   "cell_type": "code",
   "execution_count": null,
   "id": "93328483",
   "metadata": {},
   "outputs": [],
   "source": [
    "\"\"\"\n",
    "10. What is the data type of None?\n",
    "\n",
    "Ans :\n",
    "         None is a data type of class None type. None refers to none not false or 0.\n",
    "\n",
    "\"\"\""
   ]
  },
  {
   "cell_type": "code",
   "execution_count": null,
   "id": "045907ce",
   "metadata": {},
   "outputs": [],
   "source": [
    "\"\"\"\n",
    "11. What does the sentence import areallyourpetsnamederic do?\n",
    "\n",
    "Ans : The import areallyourpetsnamederic will import the module named areallyourpetsnamederic.\n",
    "         \n",
    "\"\"\""
   ]
  },
  {
   "cell_type": "code",
   "execution_count": null,
   "id": "1947558a",
   "metadata": {},
   "outputs": [],
   "source": [
    "\"\"\"\n",
    "12. If you had a bacon() feature in a spam module, what would you call it after importing spam?\n",
    "\n",
    "Ans : spam.bacon()\n",
    "\n",
    "\"\"\""
   ]
  },
  {
   "cell_type": "code",
   "execution_count": null,
   "id": "92c1c9c5",
   "metadata": {},
   "outputs": [],
   "source": [
    "\"\"\"\n",
    "13. What can you do to save a programme from crashing if it encounters an error?\n",
    "\n",
    "Ans : Exception handling concept will be used.\n",
    "\n",
    "\"\"\""
   ]
  },
  {
   "cell_type": "code",
   "execution_count": null,
   "id": "e3c2bce6",
   "metadata": {},
   "outputs": [],
   "source": [
    "\"\"\"\n",
    "14. What is the purpose of the try clause? What is the purpose of the except clause?\n",
    "\n",
    "Ans : try clause is used to throw an error and except clause is used to execute the code.\n",
    "\"\"\""
   ]
  }
 ],
 "metadata": {
  "kernelspec": {
   "display_name": "Python 3 (ipykernel)",
   "language": "python",
   "name": "python3"
  },
  "language_info": {
   "codemirror_mode": {
    "name": "ipython",
    "version": 3
   },
   "file_extension": ".py",
   "mimetype": "text/x-python",
   "name": "python",
   "nbconvert_exporter": "python",
   "pygments_lexer": "ipython3",
   "version": "3.9.7"
  }
 },
 "nbformat": 4,
 "nbformat_minor": 5
}
