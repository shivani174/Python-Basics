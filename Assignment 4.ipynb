{
 "cells": [
  {
   "cell_type": "code",
   "execution_count": null,
   "id": "aedd5a8a",
   "metadata": {},
   "outputs": [],
   "source": [
    "\"\"\"\n",
    "1. What exactly is []?\n",
    "\n",
    "Ans : \n",
    "\n",
    "       It is list in python.\n",
    "\n",
    "\n",
    "\"\"\""
   ]
  },
  {
   "cell_type": "code",
   "execution_count": null,
   "id": "9479f770",
   "metadata": {},
   "outputs": [],
   "source": [
    "\"\"\"\n",
    "2. In a list of values stored in a variable called spam, how would you assign the value \"hello\"  as the\n",
    "third value? (Assume [2, 4, 6, 8, 10] are in spam.)\n",
    "\n",
    "\n",
    "Ans: spam[2] = 'hello'\n",
    "\n",
    "\n",
    "\"\"\""
   ]
  },
  {
   "cell_type": "code",
   "execution_count": null,
   "id": "31d93da7",
   "metadata": {},
   "outputs": [],
   "source": [
    "\"\"\"\n",
    "3. What is the value of spam[int(int('3' * 2) / 11)]?\n",
    "\n",
    "Ans: The value of spam[int(int('3' * 2) / 11)] is d.\n",
    "\n",
    "\n",
    "\n",
    "\n",
    "\"\"\""
   ]
  },
  {
   "cell_type": "code",
   "execution_count": null,
   "id": "bdc47051",
   "metadata": {},
   "outputs": [],
   "source": [
    "\"\"\"\n",
    "4. What is the value of spam[-1]?\n",
    "Ans: d\n",
    "\n",
    "\"\"\""
   ]
  },
  {
   "cell_type": "code",
   "execution_count": null,
   "id": "dd203bd5",
   "metadata": {},
   "outputs": [],
   "source": [
    "\"\"\"\n",
    "5. What is the value of spam[:2]?\n",
    "\n",
    "Ans: ['a','b']\n",
    "\n",
    "\n",
    "\"\"\""
   ]
  },
  {
   "cell_type": "code",
   "execution_count": 9,
   "id": "6189a951",
   "metadata": {},
   "outputs": [],
   "source": [
    "\"\"\"\n",
    "6. What is the value of bacon.index(\"cat\")?\n",
    "\n",
    "Ans: 1\n",
    "\n",
    "\"\"\""
   ]
  },
  {
   "cell_type": "code",
   "execution_count": null,
   "id": "f2bd12f1",
   "metadata": {},
   "outputs": [],
   "source": [
    "\"\"\"\n",
    "7. How does bacon.append(99) change the look of the list value in bacon?\n",
    "\n",
    "Ans: 99 will get added in the end, [3.14, 'cat',11,'cat',99]\n",
    "\n",
    "\"\"\""
   ]
  },
  {
   "cell_type": "code",
   "execution_count": null,
   "id": "8beb5e85",
   "metadata": {},
   "outputs": [],
   "source": [
    "\"\"\"\n",
    "8. How does bacon.remove('cat') change the look of the list in bacon?\n",
    "\n",
    "Ans: The command remove will remove the cat from the list.\n",
    "\n",
    "\"\"\""
   ]
  },
  {
   "cell_type": "code",
   "execution_count": null,
   "id": "e3009904",
   "metadata": {},
   "outputs": [],
   "source": [
    "\"\"\"\n",
    "9. What are the list concatenation and list replication operators?\n",
    "\n",
    "Ans: list concatenation operator -> +\n",
    "     list replication operator   -> *\n",
    "\n",
    "\n",
    "\"\"\""
   ]
  },
  {
   "cell_type": "code",
   "execution_count": null,
   "id": "fbb7af9e",
   "metadata": {},
   "outputs": [],
   "source": [
    "\"\"\"\n",
    "10. What is difference between the list methods append() and insert()?\n",
    "\n",
    "Ans: append() and insert() both methods are used for adding an element but the key difference between these two\n",
    "     methods is append() will add an element at the end of the list whereas insert() will add element at particular\n",
    "     index i.e. we have provided.\n",
    "\n",
    "\n",
    "\"\"\""
   ]
  },
  {
   "cell_type": "code",
   "execution_count": null,
   "id": "6ec24cfa",
   "metadata": {},
   "outputs": [],
   "source": [
    "\"\"\"\n",
    "11. What are the two methods for removing items from a list?\n",
    "\n",
    "Ans:  (1) remove()\n",
    "      (2) pop()\n",
    "\n",
    "\n",
    "\"\"\""
   ]
  },
  {
   "cell_type": "code",
   "execution_count": null,
   "id": "99a1ec0a",
   "metadata": {},
   "outputs": [],
   "source": [
    "\"\"\"\n",
    "12. Describe how list values and string values are identical.\n",
    "\n",
    "Ans: 1) The values we store in lists are of different data types and the values we store in string are of character type.\n",
    "     2) values in lists are mutable whereas the values in string are immutable.\n",
    "     \n",
    "\n",
    "\"\"\""
   ]
  },
  {
   "cell_type": "code",
   "execution_count": null,
   "id": "2aedd8e2",
   "metadata": {},
   "outputs": [],
   "source": [
    "\"\"\"\n",
    "13. What is the difference between tuples and lists?\n",
    "\n",
    "Ans: 1) List is created using square brackets [] whereas Tuple is created using paranthesis ().\n",
    "     2) List is mutable and Tuple is immutable.\n",
    "     3) Lists required more memory is whereas Tuple required less memory.\n",
    "     \n",
    "\n",
    "\"\"\""
   ]
  },
  {
   "cell_type": "code",
   "execution_count": null,
   "id": "8fab2266",
   "metadata": {},
   "outputs": [],
   "source": [
    "\"\"\" \n",
    "14. How do you type a tuple value that only contains the integer 42?\n",
    "\n",
    "Ans: t = (42)\n",
    "\n",
    "\"\"\""
   ]
  },
  {
   "cell_type": "code",
   "execution_count": null,
   "id": "b9cecc87",
   "metadata": {},
   "outputs": [],
   "source": [
    "\"\"\"\n",
    "15. How do you get a list values tuple form? How do you get a tuple values list form?\n",
    "\n",
    "Ans: We get a list values tuple form by using list() and tuple() methods\n",
    "     We get a tuple values list form by calling the list() and passing tuple() form as a argument.\n",
    "\n",
    "\"\"\""
   ]
  },
  {
   "cell_type": "code",
   "execution_count": null,
   "id": "9d1c655a",
   "metadata": {},
   "outputs": [],
   "source": [
    "\"\"\"\n",
    "16. Variables that contain list values are not necessarily lists themselves. Instead, what do they\n",
    "contain?\n",
    "\n",
    "Ans: Variables that contain list values are references to lists values.\n",
    "\n",
    "\"\"\""
   ]
  },
  {
   "cell_type": "code",
   "execution_count": null,
   "id": "ab7ceca6",
   "metadata": {},
   "outputs": [],
   "source": [
    "\"\"\"\n",
    "17. How do you distinguish between copy.copy() and copy.deepcopy()?\n",
    "\n",
    "Ans: whenever we want the copy of object, we make use of shallow copy or deep copy.\n",
    "     In order to apply these two operations we need to import copy module.\n",
    "     Deep copy creates the copy of an object without changing the original one.\n",
    "     Shallow copy creates the copy but if we make changes in copy then the original \n",
    "     object will get changed too.\n",
    "     ex :     \n",
    "              import copy\n",
    "              lis = [2,4,55,6]\n",
    "              li = copy.copy(lis) # shallow copy\n",
    "              \n",
    "              \n",
    "              import copy \n",
    "              lis = [2,3,55,6]\n",
    "              li = copy.deepcopy(lis) #deep copy\n",
    "\n",
    "\"\"\""
   ]
  }
 ],
 "metadata": {
  "kernelspec": {
   "display_name": "Python 3 (ipykernel)",
   "language": "python",
   "name": "python3"
  },
  "language_info": {
   "codemirror_mode": {
    "name": "ipython",
    "version": 3
   },
   "file_extension": ".py",
   "mimetype": "text/x-python",
   "name": "python",
   "nbconvert_exporter": "python",
   "pygments_lexer": "ipython3",
   "version": "3.9.7"
  }
 },
 "nbformat": 4,
 "nbformat_minor": 5
}
