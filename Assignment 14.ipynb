{
 "cells": [
  {
   "cell_type": "code",
   "execution_count": null,
   "id": "82a32596",
   "metadata": {},
   "outputs": [],
   "source": [
    "\"\"\"\n",
    "1. What does RGBA stand for?\n",
    "Ans: RGBA stands for Red,Green,Blue and Alpha where Alpha is a opacity.\n",
    "\n",
    "\"\"\""
   ]
  },
  {
   "cell_type": "code",
   "execution_count": null,
   "id": "7328524d",
   "metadata": {},
   "outputs": [],
   "source": [
    "\"\"\"\n",
    "2. From the Pillow module, how do you get the RGBA value of any images?\n",
    "Ans: From the Pillow module, we have ImageColor.getColor(color_name, 'RGBA')\n",
    "\"\"\""
   ]
  },
  {
   "cell_type": "code",
   "execution_count": null,
   "id": "4278a1e3",
   "metadata": {},
   "outputs": [],
   "source": [
    "\"\"\"\n",
    "3. What is a box tuple, and how does it work?\n",
    "Ans: box tuple is a submodule which provides read only access to the tuple user data type.\n",
    "\"\"\""
   ]
  },
  {
   "cell_type": "code",
   "execution_count": null,
   "id": "69fddab3",
   "metadata": {},
   "outputs": [],
   "source": [
    "\"\"\"\n",
    "4. Use your image and load in notebook then, How can you find out the width and height of an\n",
    "Image object?\n",
    "Ans: \n",
    "\"\"\"\n",
    "from pil import image\n",
    "img = image.open('CHCN9309.JPG')\n",
    "print(f'width,height {img.size}')"
   ]
  },
  {
   "cell_type": "code",
   "execution_count": null,
   "id": "066b8829",
   "metadata": {},
   "outputs": [],
   "source": [
    "\"\"\"\n",
    "5. What method would you call to get Image object for a 100×100 image, excluding the lower-left\n",
    "quarter of it?\n",
    "Ans: \n",
    "\n",
    "\"\"\"\n",
    "from pill import image\n",
    "img = image.open('CHCN9309.JPG')\n",
    "img2 = img.crop((0,0,50,50))"
   ]
  },
  {
   "cell_type": "code",
   "execution_count": null,
   "id": "0b41ad3a",
   "metadata": {},
   "outputs": [],
   "source": [
    "\"\"\"\n",
    "6. After making changes to an Image object, how could you save it as an image file?\n",
    "Ans:\n",
    "\"\"\"\n",
    "from pill import image\n",
    "img = image.open('CHCN9309.JPG')\n",
    "img.save('img1.JPG')"
   ]
  },
  {
   "cell_type": "code",
   "execution_count": null,
   "id": "b00202db",
   "metadata": {},
   "outputs": [],
   "source": [
    "\"\"\"\n",
    "7. What module contains Pillow’s shape-drawing code?\n",
    "Ans: ImageDraw module contains Pillow’s shape-drawing code.\n",
    "\n",
    "\"\"\"\n"
   ]
  },
  {
   "cell_type": "code",
   "execution_count": null,
   "id": "11d2316d",
   "metadata": {},
   "outputs": [],
   "source": [
    "\"\"\"\n",
    "8. Image objects do not have drawing methods. What kind of object does? How do you get this kind\n",
    "of object?\n",
    "Ans: ImageDraw have some drawing methods as in point(),line().they are returned by passing the image object to imagedraw.Draw().\n",
    "\"\"\""
   ]
  }
 ],
 "metadata": {
  "kernelspec": {
   "display_name": "Python 3 (ipykernel)",
   "language": "python",
   "name": "python3"
  },
  "language_info": {
   "codemirror_mode": {
    "name": "ipython",
    "version": 3
   },
   "file_extension": ".py",
   "mimetype": "text/x-python",
   "name": "python",
   "nbconvert_exporter": "python",
   "pygments_lexer": "ipython3",
   "version": "3.9.12"
  }
 },
 "nbformat": 4,
 "nbformat_minor": 5
}
