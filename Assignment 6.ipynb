{
 "cells": [
  {
   "cell_type": "code",
   "execution_count": null,
   "id": "d1f7d166",
   "metadata": {},
   "outputs": [],
   "source": [
    "\"\"\"\n",
    "1. What are escape characters, and how do you use them?\n",
    "\n",
    "Ans: Whenever we want to add anything illegal in string we make use of escape characters\n",
    "     for ex :- \"\"Palace\" is amazing\"\n",
    "               This will throw an error, To overcome this issue we use \\\".\n",
    "                \n",
    "                \" \\\" Palace \\\" is amazing \".\n",
    "                \n",
    "                first we add backslash followed by a character.\n",
    "\n",
    "\"\"\""
   ]
  },
  {
   "cell_type": "code",
   "execution_count": null,
   "id": "89c45b41",
   "metadata": {},
   "outputs": [],
   "source": [
    "\"\"\"\n",
    "2. What do the escape characters n and t stand for?\n",
    "\n",
    "Ans: \\n stands for new line\n",
    "     \\t stands for tab\n",
    "\n",
    "\"\"\""
   ]
  },
  {
   "cell_type": "code",
   "execution_count": null,
   "id": "a6d211be",
   "metadata": {},
   "outputs": [],
   "source": [
    "\"\"\"\n",
    "3. What is the way to include backslash characters in a string?\n",
    "\n",
    "Ans: we use \\ followed by \\ i.e. \\\\ to include backslash characters in a string.\n",
    "\n",
    "\n",
    "\"\"\""
   ]
  },
  {
   "cell_type": "code",
   "execution_count": null,
   "id": "d3460396",
   "metadata": {},
   "outputs": [],
   "source": [
    "\"\"\"\n",
    "4. The string \"Howl's Moving Castle\" is a correct value. Why isn't the single quote character in the\n",
    "word Howl's not escaped a problem?\n",
    "\n",
    "Ans: The string \"Howl's Moving Castle\" is a correct value. The single quote character didn't escaped a problem because \n",
    "     the string is started and ended with double quotation.\n",
    "\n",
    "\n",
    "\n",
    "\"\"\""
   ]
  },
  {
   "cell_type": "code",
   "execution_count": null,
   "id": "fac02ed3",
   "metadata": {},
   "outputs": [],
   "source": [
    "\"\"\"\n",
    "5. How do you write a string of newlines if you don't want to use the n character?\n",
    "\n",
    "Ans: we use different print().\n",
    "\n",
    "\"\"\""
   ]
  },
  {
   "cell_type": "code",
   "execution_count": null,
   "id": "cb56a649",
   "metadata": {},
   "outputs": [],
   "source": [
    "\"\"\"\n",
    "6. What are the values of the given expressions?\n",
    "\"Hello, world!\"[1]\n",
    "\"Hello, world!\"[0:5]\n",
    "\"Hello, world!\"[:5]\n",
    "\"Hello, world!\"[3:]\n",
    "\n",
    "Ans:  e\n",
    "     'Hello'\n",
    "     'Hello'\n",
    "     'lo, world!'\n",
    "\n",
    "\"\"\""
   ]
  },
  {
   "cell_type": "code",
   "execution_count": null,
   "id": "d06a854e",
   "metadata": {},
   "outputs": [],
   "source": [
    "\"\"\"\n",
    "7. What are the values of the following expressions?\n",
    "'Hello'.upper()\n",
    "'Hello'.upper().isupper()\n",
    "'Hello'.upper().lower()\n",
    "\n",
    "Ans: 'HELLO'\n",
    "      True\n",
    "      hello\n",
    "     \n",
    "\"\"\""
   ]
  },
  {
   "cell_type": "code",
   "execution_count": null,
   "id": "f67b634e",
   "metadata": {},
   "outputs": [],
   "source": [
    "\"\"\"\n",
    "8. What are the values of the following expressions?\n",
    "'Remember, remember, the fifth of July.'.split()\n",
    "'-'.join('There can only one.'.split())\n",
    "\n",
    "Ans: ['Remember,', 'remember,', 'the', 'fifth', 'of', 'July.']\n",
    "\n",
    "     'There-can-only-one.'\n",
    "\n",
    "\"\"\""
   ]
  },
  {
   "cell_type": "code",
   "execution_count": null,
   "id": "45584428",
   "metadata": {},
   "outputs": [],
   "source": [
    "\"\"\"\n",
    "9. What are the methods for right-justifying, left-justifying, and centering a string?\n",
    "\n",
    "Ans: the methods for right-justifying, left-justifying, and centering a string are \n",
    "     rjust(), ljust(), center().\n",
    "\n",
    "\"\"\""
   ]
  },
  {
   "cell_type": "code",
   "execution_count": null,
   "id": "c3678539",
   "metadata": {},
   "outputs": [],
   "source": [
    "\"\"\"\n",
    "10. What is the best way to remove whitespace characters from the start or end?\n",
    "\n",
    "Ans: rstrip() and lstrip() are the best methods to remove whitespace characters.\n",
    "\n",
    "\"\"\""
   ]
  }
 ],
 "metadata": {
  "kernelspec": {
   "display_name": "Python 3 (ipykernel)",
   "language": "python",
   "name": "python3"
  },
  "language_info": {
   "codemirror_mode": {
    "name": "ipython",
    "version": 3
   },
   "file_extension": ".py",
   "mimetype": "text/x-python",
   "name": "python",
   "nbconvert_exporter": "python",
   "pygments_lexer": "ipython3",
   "version": "3.9.7"
  }
 },
 "nbformat": 4,
 "nbformat_minor": 5
}
