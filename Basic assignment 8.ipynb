{
 "cells": [
  {
   "cell_type": "code",
   "execution_count": null,
   "id": "c1f0db3b",
   "metadata": {},
   "outputs": [],
   "source": [
    "\"\"\"\n",
    "1. Is the Python Standard Library included with PyInputPlus?\n",
    "Ans: No, PyInputPlus is not the Python standard library\n",
    "\n",
    "\"\"\""
   ]
  },
  {
   "cell_type": "code",
   "execution_count": null,
   "id": "0d4b98d7",
   "metadata": {},
   "outputs": [],
   "source": [
    "\"\"\"\n",
    "2. Why is PyInputPlus commonly imported with import pyinputplus as pypi?\n",
    "Ans: we import pyinputplus as pypi because the name should be shorter whenever we want to call the module.\n",
    "\n",
    "\n",
    "\"\"\""
   ]
  },
  {
   "cell_type": "code",
   "execution_count": null,
   "id": "4be7721b",
   "metadata": {},
   "outputs": [],
   "source": [
    "\"\"\"\n",
    "3. How do you distinguish between inputInt() and inputFloat()?\n",
    "Ans: inputInt() takes integer input and returns integer value \n",
    "     inputFloat() takes floating value as a input and returns float value.\n",
    "\n",
    "\"\"\""
   ]
  },
  {
   "cell_type": "code",
   "execution_count": null,
   "id": "f8b53b60",
   "metadata": {},
   "outputs": [],
   "source": [
    "\"\"\"\n",
    "4. Using PyInputPlus, how do you ensure that the user enters a whole number between 0 and 99?\n",
    "Ans: By making use of PyInputPlus, I will use inputint() and will make use of min and max parameters to limit the range between \n",
    "     0 to 99.\n",
    "\n",
    "\"\"\""
   ]
  },
  {
   "cell_type": "code",
   "execution_count": null,
   "id": "1d324045",
   "metadata": {},
   "outputs": [],
   "source": [
    "\"\"\"\n",
    "5. What is transferred to the keyword arguments allowRegexes and blockRegexes?\n",
    "Ans: we can use allowRegexes and blockRegexes keyword arguments to take list of regular expression strings to determine\n",
    "what the pyinputplus function will reject or accept valid input.\n",
    "\n",
    "\"\"\""
   ]
  },
  {
   "cell_type": "code",
   "execution_count": null,
   "id": "c01d31a4",
   "metadata": {},
   "outputs": [],
   "source": [
    "\"\"\"\n",
    "6. If a blank input is entered three times, what does inputStr(limit=3) do?\n",
    "Ans: Two exceptions ValidationException and RetryLimitException will be thrown.\n",
    "\n",
    "\"\"\""
   ]
  },
  {
   "cell_type": "code",
   "execution_count": null,
   "id": "b295906f",
   "metadata": {},
   "outputs": [],
   "source": [
    "\"\"\"\n",
    "7. If blank input is entered three times, what does inputStr(limit=3, default='hello') do?\n",
    "Ans: hello\n",
    "\n",
    "\"\"\""
   ]
  }
 ],
 "metadata": {
  "kernelspec": {
   "display_name": "Python 3 (ipykernel)",
   "language": "python",
   "name": "python3"
  },
  "language_info": {
   "codemirror_mode": {
    "name": "ipython",
    "version": 3
   },
   "file_extension": ".py",
   "mimetype": "text/x-python",
   "name": "python",
   "nbconvert_exporter": "python",
   "pygments_lexer": "ipython3",
   "version": "3.9.12"
  }
 },
 "nbformat": 4,
 "nbformat_minor": 5
}
