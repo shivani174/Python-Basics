{
 "cells": [
  {
   "cell_type": "code",
   "execution_count": null,
   "id": "df9f29d9",
   "metadata": {},
   "outputs": [],
   "source": [
    "\"\"\"\n",
    "1. What is the name of the feature responsible for generating Regex objects?\n",
    "\n",
    "Ans: re.compile\n",
    "\n",
    "\"\"\""
   ]
  },
  {
   "cell_type": "code",
   "execution_count": null,
   "id": "91065afb",
   "metadata": {},
   "outputs": [],
   "source": [
    "\"\"\"\n",
    "2. Why do raw strings often appear in Regex objects?\n",
    "\n",
    "Ans: raw strings often appear in Regex objects so that backslashes don't have to be escaped.\n",
    "\n",
    "\"\"\""
   ]
  },
  {
   "cell_type": "code",
   "execution_count": null,
   "id": "4cd5fea1",
   "metadata": {},
   "outputs": [],
   "source": [
    "\"\"\"\n",
    "3. What is the return value of the search() method?\n",
    "\n",
    "Ans: search() method search the pattern in regular expression and return the first occurence.\n",
    "\n",
    "\n",
    "\"\"\""
   ]
  },
  {
   "cell_type": "code",
   "execution_count": null,
   "id": "2e4c67fb",
   "metadata": {},
   "outputs": [],
   "source": [
    "\"\"\"\n",
    "4. From a Match item, how do you get the actual strings that match the pattern?\n",
    "\n",
    "Ans: from a match item group() method get the actual strings that match the pattern.\n",
    "\n",
    "\"\"\""
   ]
  },
  {
   "cell_type": "code",
   "execution_count": null,
   "id": "434d5572",
   "metadata": {},
   "outputs": [],
   "source": [
    "\"\"\"\n",
    "5. In the regex which created from the (\\d\\d\\d)-(\\d\\d\\d-\\d\\d\\d\\d)&#39;, what does group zero cover?\n",
    "Group 2? Group 1?\n",
    "Ans: The zero group covers the entire pattern match.\n",
    "\"\"\""
   ]
  },
  {
   "cell_type": "code",
   "execution_count": null,
   "id": "98e2ba58",
   "metadata": {},
   "outputs": [],
   "source": [
    "\"\"\"\n",
    "6. In standard expression syntax, parentheses and intervals have distinct meanings. How can you tell\n",
    "a regex that you want it to fit real parentheses and periods?\n",
    "\n",
    "Ans: By making use of \\ i.e. \\. \\(and \\).\n",
    "\n",
    "\n",
    "\"\"\""
   ]
  },
  {
   "cell_type": "code",
   "execution_count": null,
   "id": "0a1fa74d",
   "metadata": {},
   "outputs": [],
   "source": [
    "\"\"\"\n",
    "7. The findall() method returns a string list or a list of string tuples. What causes it to return one of\n",
    "the two options?\n",
    "\n",
    "Ans: If a regex object has a group then list of tuple is returned otherwise it will return list of strings.\n",
    "\n",
    "\"\"\""
   ]
  },
  {
   "cell_type": "code",
   "execution_count": null,
   "id": "0c54326a",
   "metadata": {},
   "outputs": [],
   "source": [
    "\"\"\"\n",
    "8. In standard expressions, what does the | character mean?\n",
    "\n",
    "Ans: The | is a Or operation.\n",
    "\n",
    "\n",
    "\"\"\""
   ]
  },
  {
   "cell_type": "code",
   "execution_count": null,
   "id": "a3538831",
   "metadata": {},
   "outputs": [],
   "source": [
    "\"\"\"\n",
    "9. In regular expressions, what does the character ? stand for?\n",
    "\n",
    "Ans: ? stands for zero.\n",
    "\n",
    "\"\"\""
   ]
  },
  {
   "cell_type": "code",
   "execution_count": null,
   "id": "ff914dae",
   "metadata": {},
   "outputs": [],
   "source": [
    "\"\"\"\n",
    "10.In regular expressions, what is the difference between the + and * characters?\n",
    "\n",
    "Ans: + means one or more character of a preceding group\n",
    "     * means zero or more character of a preceding group.\n",
    "\n",
    "\n",
    "\"\"\""
   ]
  },
  {
   "cell_type": "code",
   "execution_count": null,
   "id": "e1f13cae",
   "metadata": {},
   "outputs": [],
   "source": [
    "\"\"\"\n",
    "11. What is the difference between {4} and {4,5} in regular expression?\n",
    "\n",
    "Ans: {4} means its preceding group should repeat 4 times \n",
    "     {4,5} means its preceding group should repeat minimum 4 times and maximum 5 times.\n",
    "\n",
    "\"\"\""
   ]
  },
  {
   "cell_type": "code",
   "execution_count": null,
   "id": "d2ccf3db",
   "metadata": {},
   "outputs": [],
   "source": [
    "\"\"\"\n",
    "12. What do you mean by the \\d, \\w, and \\s shorthand character classes signify in regular\n",
    "expressions?\n",
    "\n",
    "Ans : \\d matches digits i.e. [0-9]\n",
    "      \\w matches alphabets i.e. [a-zA-Z0-9]\n",
    "      \\s matches whitespaces.\n",
    "\n",
    "\"\"\""
   ]
  },
  {
   "cell_type": "code",
   "execution_count": null,
   "id": "21e08461",
   "metadata": {},
   "outputs": [],
   "source": [
    "\"\"\"\n",
    "13. What do means by \\D, \\W, and \\S shorthand character classes signify in regular expressions?\n",
    "\n",
    "Ans :  \\D matches non-digits i.e. [^0-9]\n",
    "       \\W matches non-alphabets i.e. [^a to z,A to Z,0-9]\n",
    "       \\s matches non-whitespaces.\n",
    "\n",
    "\n",
    "\"\"\""
   ]
  },
  {
   "cell_type": "code",
   "execution_count": null,
   "id": "0f5fd820",
   "metadata": {},
   "outputs": [],
   "source": [
    "\"\"\"\n",
    "14. What is the difference between .*? and .*?\n",
    "\n",
    "Ans: *? is a non-greedy method which returns shortest string which meets the condition and * is a greedy method which returns longest \n",
    "string that meet the condition.\n",
    "\n",
    "\n",
    "\"\"\""
   ]
  },
  {
   "cell_type": "code",
   "execution_count": null,
   "id": "4f0eac7e",
   "metadata": {},
   "outputs": [],
   "source": [
    "\"\"\"\n",
    "15. What is the syntax for matching both numbers and lowercase letters with a character class?\n",
    "Ans: [a-z0-9]\n",
    "\n",
    "\"\"\""
   ]
  },
  {
   "cell_type": "code",
   "execution_count": null,
   "id": "1a751981",
   "metadata": {},
   "outputs": [],
   "source": [
    "\"\"\"\n",
    "16. What is the procedure for making a normal expression in regax case insensitive?\n",
    "\n",
    "Ans: re.ignorecase is passed as a flag to make normal expression in regex case insensitive.\n",
    "\n",
    "\n",
    "\"\"\""
   ]
  },
  {
   "cell_type": "code",
   "execution_count": null,
   "id": "b85e263c",
   "metadata": {},
   "outputs": [],
   "source": [
    "\"\"\"\n",
    "17. What does the . character normally match? What does it match if re.DOTALL is passed as 2nd\n",
    "argument in re.compile()?\n",
    "\n",
    "Ans: . character normally matches everything except newline in an input, it matches with everything if match if re.DOTALL is passed as 2nd \n",
    "       arguement in re.comipile\n",
    "\n",
    "\n",
    "\"\"\""
   ]
  },
  {
   "cell_type": "code",
   "execution_count": null,
   "id": "61ee8b35",
   "metadata": {},
   "outputs": [],
   "source": [
    "\"\"\"\n",
    "18. If numReg = re.compile(r'\\d'), what will numRegex.sub('X','11 drummers, 10 pipers, five rings, 4\n",
    "'hen') return?\n",
    "\n",
    "Ans: The Ouput will be'X drummers, X pipers, five rings, X hen'\n",
    "\"\"\""
   ]
  },
  {
   "cell_type": "code",
   "execution_count": null,
   "id": "48d39f24",
   "metadata": {},
   "outputs": [],
   "source": [
    "\"\"\"\n",
    "19. What does passing re.VERBOSE as the 2nd argument to re.compile() allow to do?\n",
    "\n",
    "Ans: re.VERBOSE will allow to add whitespace and comments to string.\n",
    "\n",
    "\"\"\""
   ]
  },
  {
   "cell_type": "code",
   "execution_count": 1,
   "id": "09bad933",
   "metadata": {},
   "outputs": [
    {
     "name": "stdout",
     "output_type": "stream",
     "text": [
      "Output: 42 -> <re.Match object; span=(0, 2), match='42'>\n",
      "Output: 1,234 -> <re.Match object; span=(0, 5), match='1,234'>\n",
      "Output: 6,368,745 -> <re.Match object; span=(0, 9), match='6,368,745'>\n",
      "Output: 12,34,567 -> None\n",
      "Output: 1234 -> None\n"
     ]
    }
   ],
   "source": [
    "\"\"\"\n",
    "20. How would you write a regex that match a number with comma for every three digits? It must\n",
    "match the given following:\n",
    "\"42\"\n",
    "'1,234'\n",
    "'6,368,745'\n",
    "but not the following:\n",
    "'12,34,567' (which has only two digits between the commas)\n",
    "'1234' (which lacks commas)\n",
    "\"\"\"\n",
    "import re\n",
    "pattern = r'^\\d{1,3}(,\\d{3})*$'\n",
    "pagex = re.compile(pattern)\n",
    "for ele in ['42','1,234', '6,368,745','12,34,567','1234']:\n",
    "    print('Output:',ele, '->', pagex.search(ele))"
   ]
  },
  {
   "cell_type": "code",
   "execution_count": 3,
   "id": "9c410b52",
   "metadata": {},
   "outputs": [
    {
     "name": "stdout",
     "output_type": "stream",
     "text": [
      "Output:  Haruto Watanabe -> <re.Match object; span=(0, 15), match='Haruto Watanabe'>\n",
      "Output:  Alice Watanabe -> <re.Match object; span=(0, 14), match='Alice Watanabe'>\n",
      "Output:  RoboCop Watanabe -> <re.Match object; span=(4, 16), match='Cop Watanabe'>\n",
      "Output:  haruto Watanabe -> None\n",
      "Output:  Mr. Watanabe -> None\n",
      "Output:  Watanabe -> None\n",
      "Output:  Haruto watanabe -> None\n"
     ]
    }
   ],
   "source": [
    "\"\"\"\n",
    "21. How would you write a regex that matches the full name of someone whose last name is\n",
    "Watanabe? You can assume that the first name that comes before it will always be one word that\n",
    "begins with a capital letter. The regex must match the following:\n",
    "'Haruto Watanabe'\n",
    "'Alice Watanabe'\n",
    "'RoboCop Watanabe'\n",
    "but not the following:\n",
    "'haruto Watanabe' (where the first name is not capitalized)\n",
    "'Mr. Watanabe' (where the preceding word has a nonletter character)\n",
    "'Watanabe' (which has no first name)\n",
    "'Haruto watanabe' (where Watanabe is not capitalized)\n",
    "\n",
    "\"\"\"\n",
    "import re\n",
    "pattern = r'[A-Z]{1}[a-z]*\\sWatanabe'\n",
    "namex = re.compile(pattern)\n",
    "for name in ['Haruto Watanabe','Alice Watanabe','RoboCop Watanabe','haruto Watanabe','Mr. Watanabe','Watanabe','Haruto watanabe']:\n",
    "    print('Output: ',name,'->',namex.search(name))\n"
   ]
  },
  {
   "cell_type": "code",
   "execution_count": 4,
   "id": "25cc9d8a",
   "metadata": {},
   "outputs": [
    {
     "name": "stdout",
     "output_type": "stream",
     "text": [
      "Output:  Alice eats apples. -> <re.Match object; span=(0, 18), match='Alice eats apples.'>\n",
      "Output:  Bob pets cats. -> <re.Match object; span=(0, 14), match='Bob pets cats.'>\n",
      "Output:  Carol throws baseballs. -> <re.Match object; span=(0, 23), match='Carol throws baseballs.'>\n",
      "Output:  Alice throws Apples. -> <re.Match object; span=(0, 20), match='Alice throws Apples.'>\n",
      "Output:  BOB EATS CATS. -> <re.Match object; span=(0, 14), match='BOB EATS CATS.'>\n",
      "Output:  RoboCop eats apples. -> None\n",
      "Output:  ALICE THROWS FOOTBALLS. -> None\n",
      "Output:  Carol eats 7 cats. -> None\n"
     ]
    }
   ],
   "source": [
    "\"\"\"\n",
    "22. How would you write a regex that matches a sentence where the first word is either Alice, Bob,\n",
    "or Carol; the second word is either eats, pets, or throws; the third word is apples, cats, or baseballs;\n",
    "and the sentence ends with a period? This regex should be case-insensitive. It must match the\n",
    "following:\n",
    "'Alice eats apples.'\n",
    "'Bob pets cats.'\n",
    "'Carol throws baseballs.'\n",
    "'Alice throws Apples.'\n",
    "'BOB EATS CATS.'\n",
    "but not the following:\n",
    "'RoboCop eats apples.'\n",
    "'ALICE THROWS FOOTBALLS.'\n",
    "'Carol eats 7 cats.'\n",
    "\n",
    "\"\"\"\n",
    "import re\n",
    "pattern = r'(Alice|Bob|Carol)\\s(eats|pets|throws)\\s(apples|cats|baseballs)\\.'\n",
    "casex = re.compile(pattern,re.IGNORECASE)\n",
    "for ele in ['Alice eats apples.','Bob pets cats.','Carol throws baseballs.','Alice throws Apples.','BOB EATS CATS.','RoboCop eats apples.'\n",
    ",'ALICE THROWS FOOTBALLS.','Carol eats 7 cats.']:\n",
    "    print('Output: ',ele,'->',casex.search(ele))"
   ]
  },
  {
   "cell_type": "code",
   "execution_count": null,
   "id": "895c2729",
   "metadata": {},
   "outputs": [],
   "source": []
  }
 ],
 "metadata": {
  "kernelspec": {
   "display_name": "Python 3 (ipykernel)",
   "language": "python",
   "name": "python3"
  },
  "language_info": {
   "codemirror_mode": {
    "name": "ipython",
    "version": 3
   },
   "file_extension": ".py",
   "mimetype": "text/x-python",
   "name": "python",
   "nbconvert_exporter": "python",
   "pygments_lexer": "ipython3",
   "version": "3.9.12"
  }
 },
 "nbformat": 4,
 "nbformat_minor": 5
}
