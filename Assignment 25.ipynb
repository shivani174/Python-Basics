{
 "cells": [
  {
   "cell_type": "code",
   "execution_count": null,
   "id": "8b9b88e9",
   "metadata": {},
   "outputs": [],
   "source": [
    "\"\"\"1) . What is the difference between enclosing a list comprehension in square brackets and\n",
    "parentheses?\n",
    "\n",
    "Ans: Enclosing a list comprehension in square brackets will return a list.\n",
    "     Enclosing a list comprehension in parentheses will return a generator.\n",
    "\n",
    "\"\"\"\n"
   ]
  },
  {
   "cell_type": "code",
   "execution_count": null,
   "id": "0a63a8d4",
   "metadata": {},
   "outputs": [],
   "source": [
    "\"\"\"2) What is the relationship between generators and iterators?\n",
    "\n",
    "Ans: iterator : iterator is an object which is having countable number of emements and it is used to iterate over \n",
    "     iterable objects like tuple,list,etc. we use iter() keyword to create an iterator. Every Iterator is not a generator.\n",
    "     Generator: It is second way we can create an iterator. It uses yield keyword. Every generator is an iterator.\n",
    "\"\"\""
   ]
  },
  {
   "cell_type": "code",
   "execution_count": null,
   "id": "87ceb957",
   "metadata": {},
   "outputs": [],
   "source": [
    "\"\"\"3) What are the signs that a function is a generator function?\n",
    "Ans: Generator function will always return generator object. It uses yield keyword.\n",
    " \n",
    "\"\"\""
   ]
  },
  {
   "cell_type": "code",
   "execution_count": null,
   "id": "4734acbe",
   "metadata": {},
   "outputs": [],
   "source": [
    "\"\"\"4) What is the purpose of a yield statement?\n",
    "Ans: The yield statement suspends function’s execution and sends a value back to the caller, \n",
    "but retains enough state to enable function to resume where it is left off. When resumed, \n",
    "the function continues execution immediately after the last yield run. \n",
    "This allows its code to produce a series of values over time, \n",
    "rather than computing them at once and sending them back like a list.\n",
    "\n",
    "\"\"\"\n"
   ]
  },
  {
   "cell_type": "code",
   "execution_count": null,
   "id": "aebd15a8",
   "metadata": {},
   "outputs": [],
   "source": [
    "\"\"\"5) What is the relationship between map calls and list comprehensions? Make a comparison and\n",
    "contrast between the two.\n",
    "\n",
    "Ans:\n",
    "1.List comprehension is easier to read as compared to map.\n",
    "2. List comprehension allows filtering. In map, we have no such facility. For example, to print all odd numbers in range of 50, we can write `[n for n in range(50) if n%2 != 0]`. There is no alternate for it in map\n",
    "3. List comprehension are used when a list of results is required as final output.but map only returns a map object. it needs to be explicitly coverted to desired datatype.\n",
    "4. List comprehension is faster than map when we need to evaluate expressions that are too long or complicated to express\n",
    "5. Map is faster in case of calling an already defined function on a set of values.\n",
    "\n",
    "\n",
    "\"\"\""
   ]
  },
  {
   "cell_type": "code",
   "execution_count": null,
   "id": "bb9ef65f",
   "metadata": {},
   "outputs": [],
   "source": []
  }
 ],
 "metadata": {
  "kernelspec": {
   "display_name": "Python 3 (ipykernel)",
   "language": "python",
   "name": "python3"
  },
  "language_info": {
   "codemirror_mode": {
    "name": "ipython",
    "version": 3
   },
   "file_extension": ".py",
   "mimetype": "text/x-python",
   "name": "python",
   "nbconvert_exporter": "python",
   "pygments_lexer": "ipython3",
   "version": "3.9.12"
  }
 },
 "nbformat": 4,
 "nbformat_minor": 5
}
