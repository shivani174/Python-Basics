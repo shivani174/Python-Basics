{
 "cells": [
  {
   "cell_type": "code",
   "execution_count": null,
   "id": "b71646b2",
   "metadata": {},
   "outputs": [],
   "source": [
    "\"\"\"\n",
    "1. To what does a relative path refer?\n",
    "Ans: The relative path is the path to some file with respect to your current working directory.\n",
    "\n",
    "\"\"\""
   ]
  },
  {
   "cell_type": "code",
   "execution_count": null,
   "id": "7b8c018c",
   "metadata": {},
   "outputs": [],
   "source": [
    "\"\"\"\n",
    "2.Where does an absolute path start with your Operating System ?\n",
    "Ans: An absolute path start with c.\n",
    "\n",
    "\"\"\""
   ]
  },
  {
   "cell_type": "code",
   "execution_count": null,
   "id": "6e480ded",
   "metadata": {},
   "outputs": [],
   "source": [
    "\"\"\"\n",
    "3. What do the functions os.getcwd() and os.chdir() do?\n",
    "Ans: os.getcwd() tells us the location of current working directory and os.chdir() is for changing the location\n",
    "     current working directory. \n",
    "\n",
    "\"\"\""
   ]
  },
  {
   "cell_type": "code",
   "execution_count": null,
   "id": "485e2a17",
   "metadata": {},
   "outputs": [],
   "source": [
    "\"\"\"\n",
    "4. What are the . and .. folders?\n",
    "Ans: . represents the current directory and .. represents the parent directory of the current directory.\n",
    "\n",
    "\"\"\""
   ]
  },
  {
   "cell_type": "code",
   "execution_count": null,
   "id": "8398e6b0",
   "metadata": {},
   "outputs": [],
   "source": [
    "\"\"\"\n",
    "5. In C:\\bacon\\eggs\\spam.txt, which part is the dir name, and which part is the base name?\n",
    "Ans: The directory name is C:\\bacon\\eggs\\\n",
    "     and base name is spam.txt.\n",
    "\n",
    "\n",
    "\"\"\""
   ]
  },
  {
   "cell_type": "code",
   "execution_count": null,
   "id": "e1ad90bb",
   "metadata": {},
   "outputs": [],
   "source": [
    "\"\"\"\n",
    "6. What are the three “mode” arguments that can be passed to the open() function?\n",
    "Ans: 'r' - read mode\n",
    "     'w' - write mode\n",
    "     'x' - create mode\n",
    "     'a' - append\n",
    "\n",
    "\"\"\""
   ]
  },
  {
   "cell_type": "code",
   "execution_count": null,
   "id": "c628bcb1",
   "metadata": {},
   "outputs": [],
   "source": [
    "\"\"\"\n",
    "7. What happens if an existing file is opened in write mode?\n",
    "Ans: if an existing file is opened in write mode then it will be overwritten.\n",
    "\n",
    "\"\"\""
   ]
  },
  {
   "cell_type": "code",
   "execution_count": null,
   "id": "89fd9d43",
   "metadata": {},
   "outputs": [],
   "source": [
    "\"\"\"\n",
    "8. How do you tell the difference between read() and readlines()?\n",
    "Ans: read() will read the entire file\n",
    "     readlines() will read the line\n",
    "\n",
    "\"\"\""
   ]
  },
  {
   "cell_type": "code",
   "execution_count": null,
   "id": "e51d5e0f",
   "metadata": {},
   "outputs": [],
   "source": [
    "\"\"\"\n",
    "9. What data structure does a shelf value resemble?\n",
    "Ans: Dictionary.\n",
    "\n",
    "\"\"\""
   ]
  }
 ],
 "metadata": {
  "kernelspec": {
   "display_name": "Python 3 (ipykernel)",
   "language": "python",
   "name": "python3"
  },
  "language_info": {
   "codemirror_mode": {
    "name": "ipython",
    "version": 3
   },
   "file_extension": ".py",
   "mimetype": "text/x-python",
   "name": "python",
   "nbconvert_exporter": "python",
   "pygments_lexer": "ipython3",
   "version": "3.9.12"
  }
 },
 "nbformat": 4,
 "nbformat_minor": 5
}
