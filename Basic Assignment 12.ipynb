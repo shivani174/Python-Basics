{
 "cells": [
  {
   "cell_type": "code",
   "execution_count": null,
   "id": "de9248b8",
   "metadata": {},
   "outputs": [],
   "source": [
    "\"\"\"\n",
    "1. In what modes should the PdfFileReader() and PdfFileWriter() File objects will be opened?\n",
    "\n",
    "Ans: pdfFileReader() file objects should be opened in read binary mode i.e. rb\n",
    "     PdfFileWriter() file objects should be opened in write binary mode i.e. wb\n",
    "\"\"\""
   ]
  },
  {
   "cell_type": "code",
   "execution_count": null,
   "id": "66d20580",
   "metadata": {},
   "outputs": [],
   "source": [
    "\"\"\"\n",
    "2. From a PdfFileReader object, how do you get a Page object for page 5?\n",
    "\n",
    "Ans: By making use of getpage(pageno) method which is provided by PdfFileReader will be used to get a Page object for page 5\n",
    "Ex:\n",
    "\"\"\""
   ]
  },
  {
   "cell_type": "code",
   "execution_count": null,
   "id": "bc66952c",
   "metadata": {},
   "outputs": [],
   "source": [
    "\"\"\"\n",
    "3. What PdfFileReader variable stores the number of pages in the PDF document?\n",
    "Ans: getnumpages()\n",
    "\"\"\""
   ]
  },
  {
   "cell_type": "code",
   "execution_count": null,
   "id": "de9d0c6b",
   "metadata": {},
   "outputs": [],
   "source": [
    "\"\"\"\n",
    "4. If a PdfFileReader object’s PDF is encrypted with the password swordfish, what must you do\n",
    "before you can obtain Page objects from it?\n",
    "Ans: Firstly we will read the pdf by using PdfFileReader. Afterwards we will check if the pdf file is encrypted or not \n",
    "     by making use of isencrypted. and if the pdf file is encrypted then we will decrypt the file using decrypt() method.\n",
    "\"\"\""
   ]
  },
  {
   "cell_type": "code",
   "execution_count": null,
   "id": "2354a9ed",
   "metadata": {},
   "outputs": [],
   "source": [
    "\"\"\"\n",
    "5. What methods do you use to rotate a page?\n",
    "Ans: we use RotateClockWise() and RotateCounterClockWise() to rotate a page.\n",
    "\n",
    "\"\"\""
   ]
  },
  {
   "cell_type": "code",
   "execution_count": null,
   "id": "f69cfb76",
   "metadata": {},
   "outputs": [],
   "source": [
    "\"\"\"\n",
    "6. What is the difference between a Run object and a Paragraph object?\n",
    "Ans:  Paragraph objects can be added only to the end of the document, \n",
    "      Run objects can be added only to the end of a Paragraph object.\n",
    "\n",
    "\"\"\""
   ]
  },
  {
   "cell_type": "code",
   "execution_count": null,
   "id": "25bd52fc",
   "metadata": {},
   "outputs": [],
   "source": [
    "\"\"\"\n",
    "7. How do you obtain a list of Paragraph objects for a Document object that’s stored in a variable\n",
    "named doc?\n",
    "Ans: \n",
    "\n",
    "\"\"\"\n",
    "from docx import Document\n",
    "dt = Document(\"sample_file.docx\") \n",
    "print(dt.paragraphs)\n",
    "for para in dt.paragraphs:\n",
    "    print(para.text)"
   ]
  },
  {
   "cell_type": "code",
   "execution_count": null,
   "id": "5233ef94",
   "metadata": {},
   "outputs": [],
   "source": [
    "\"\"\"\n",
    "8. What type of object has bold, underline, italic, strike, and outline variables?\n",
    "\n",
    "Ans: Run object has bold, underline, italic, strike, and outline variables.\n",
    "\n",
    "\"\"\""
   ]
  },
  {
   "cell_type": "code",
   "execution_count": 6,
   "id": "e5f37c76",
   "metadata": {},
   "outputs": [],
   "source": [
    "\"\"\"\n",
    "9. What is the difference between False, True, and None for the bold variable?\n",
    "\n",
    "Ans: \n",
    "\n",
    "bold = True # style set to bold\n",
    "bold = False # style not set to bold\n",
    "bold = None # style is not applicable\n",
    "\n",
    "\"\"\""
   ]
  },
  {
   "cell_type": "code",
   "execution_count": 7,
   "id": "22442dc8",
   "metadata": {},
   "outputs": [],
   "source": [
    "\"\"\"\n",
    "10. How do you create a Document object for a new Word document?\n",
    "Ans: \n",
    "\"\"\"\n",
    "from docx import Document\n",
    "doc = Document()\n",
    "doc.add_paragraph(\"iNeuron Full Stack DataScience Course\")\n",
    "doc.save('mydocument.docx')"
   ]
  },
  {
   "cell_type": "code",
   "execution_count": null,
   "id": "9ad724ee",
   "metadata": {},
   "outputs": [],
   "source": [
    "\"\"\"\n",
    "11. How do you add a paragraph with the text &#39;Hello, there!&#39; to a Document object stored in a\n",
    "variable named doc?\n",
    "Ans: \n",
    "\n",
    "\"\"\"\n",
    "from docx import Document\n",
    "doc = Document()\n",
    "doc.add_paragraph('Hello, there!')\n",
    "doc.save('hello.docx')"
   ]
  },
  {
   "cell_type": "code",
   "execution_count": null,
   "id": "cc965b46",
   "metadata": {},
   "outputs": [],
   "source": [
    "\"\"\"\n",
    "12. What integers represent the levels of headings available in Word documents?\n",
    "Ans: In word document we have add_heading method and inside this method level attribute is present \n",
    "     for specifying the levels. \n",
    "     There are total 5 levels i.e. 0-4\n",
    "      * level 0 makes the horizontal line below the text\n",
    "      * level 1 is main heading\n",
    "      * Remaing are sub headings with decreasing order.\n",
    "      \n",
    "     \n",
    "\"\"\"\n"
   ]
  }
 ],
 "metadata": {
  "kernelspec": {
   "display_name": "Python 3 (ipykernel)",
   "language": "python",
   "name": "python3"
  },
  "language_info": {
   "codemirror_mode": {
    "name": "ipython",
    "version": 3
   },
   "file_extension": ".py",
   "mimetype": "text/x-python",
   "name": "python",
   "nbconvert_exporter": "python",
   "pygments_lexer": "ipython3",
   "version": "3.9.12"
  }
 },
 "nbformat": 4,
 "nbformat_minor": 5
}
