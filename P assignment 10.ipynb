{
 "cells": [
  {
   "cell_type": "code",
   "execution_count": null,
   "id": "bcf7e240",
   "metadata": {},
   "outputs": [],
   "source": [
    "\"\"\"\n",
    "1. How do you distinguish between shutil.copy() and shutil.copytree()?\n",
    "Ans: shutil.copy() method is used to copy the contents of a file from one file to another folder \n",
    "     whereas shutil.copytree() function is used to copy the entire contents of a folder to other folder.\n",
    "\n",
    "\"\"\""
   ]
  },
  {
   "cell_type": "code",
   "execution_count": null,
   "id": "fc1924a3",
   "metadata": {},
   "outputs": [],
   "source": [
    "\"\"\"\n",
    "2. What function is used to rename files??\n",
    "Ans: os.rename()\n",
    "\"\"\""
   ]
  },
  {
   "cell_type": "code",
   "execution_count": null,
   "id": "5b305a38",
   "metadata": {},
   "outputs": [],
   "source": [
    "\"\"\"\n",
    "3. What is the difference between the delete functions in the send2trash and shutil modules?\n",
    "Ans: delete function from shutil module i.e. shutil.rmtree() is for deleting files permanantaly.If the files gets \n",
    "deleted accidently by using this function then there is no other way to recover that file whereas send2trash provides\n",
    " sent2trash.send2trash() do not delete files permanantly instead it will go to trash folder and so that we can recover\n",
    " the file.\n",
    "\n",
    "\"\"\""
   ]
  },
  {
   "cell_type": "code",
   "execution_count": null,
   "id": "3314c2f5",
   "metadata": {},
   "outputs": [],
   "source": [
    "\"\"\"\n",
    "4.ZipFile objects have a close() method just like File objects’ close() method. What ZipFile method is\n",
    "equivalent to File objects’ open() method?\n",
    "Ans: zipfile.ZipFile('file_name', mode = 'r')\n",
    "\"\"\""
   ]
  }
 ],
 "metadata": {
  "kernelspec": {
   "display_name": "Python 3 (ipykernel)",
   "language": "python",
   "name": "python3"
  },
  "language_info": {
   "codemirror_mode": {
    "name": "ipython",
    "version": 3
   },
   "file_extension": ".py",
   "mimetype": "text/x-python",
   "name": "python",
   "nbconvert_exporter": "python",
   "pygments_lexer": "ipython3",
   "version": "3.9.12"
  }
 },
 "nbformat": 4,
 "nbformat_minor": 5
}
