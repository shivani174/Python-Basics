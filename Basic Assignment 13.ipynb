{
 "cells": [
  {
   "cell_type": "code",
   "execution_count": null,
   "id": "fe840e92",
   "metadata": {},
   "outputs": [],
   "source": [
    "\"\"\"\n",
    "1. What advantages do Excel spreadsheets have over CSV spreadsheets?\n",
    "Ans: In excel spreadsheets we can perform calculations by using formulaes, VBA and we have various functions in excel\n",
    "     whereas csv is comma separated file it is also known to be a flat file but like excel we cannot perform operations here.\n",
    "\n",
    "\"\"\""
   ]
  },
  {
   "cell_type": "code",
   "execution_count": null,
   "id": "fdd21d4a",
   "metadata": {},
   "outputs": [],
   "source": [
    "\"\"\"\n",
    "2.What do you pass to csv.reader() and csv.writer() to create reader and writer objects?\n",
    "Ans: we create file by using open() and we pass w to open it into a write mode, then we pass it to csv.write() to create object.\n",
    "     we create file by using open() and we pass r to open it into a read mode, then we pass it to csv.reader() to create object.\n",
    "\n",
    "\"\"\""
   ]
  },
  {
   "cell_type": "code",
   "execution_count": null,
   "id": "d1d46e86",
   "metadata": {},
   "outputs": [],
   "source": [
    "\"\"\"\n",
    "3. What modes do File objects for reader and writer objects need to be opened in?\n",
    "Ans: 'r' mode -  reader\n",
    "     'w' mode - writer\n",
    "\"\"\"\n"
   ]
  },
  {
   "cell_type": "code",
   "execution_count": null,
   "id": "8cca1b14",
   "metadata": {},
   "outputs": [],
   "source": [
    "\"\"\"\n",
    "4. What method takes a list argument and writes it to a CSV file?\n",
    "Ans: writerow() and writerows() are two methods take a list argument and writes it to a CSV file.\n",
    "\"\"\""
   ]
  },
  {
   "cell_type": "code",
   "execution_count": null,
   "id": "0f1af022",
   "metadata": {},
   "outputs": [],
   "source": [
    "\"\"\"\n",
    "5. What do the keyword arguments delimiter and line terminator do?\n",
    "Ans: Delimiter is a separator it separates words ex: ineaurn,data,science,course here , is a delimeter. we can take any delimeter\n",
    "     line terminator comes at the end of the line and by default it is new line. \n",
    "\n",
    "\"\"\""
   ]
  },
  {
   "cell_type": "code",
   "execution_count": null,
   "id": "934ebfd3",
   "metadata": {},
   "outputs": [],
   "source": [
    "\"\"\"\n",
    "6. What function takes a string of JSON data and returns a Python data structure?\n",
    "Ans: loads() takes a string of JSON data and returns a Python data structure.\n",
    "\n",
    "\"\"\""
   ]
  },
  {
   "cell_type": "code",
   "execution_count": null,
   "id": "3f3578cf",
   "metadata": {},
   "outputs": [],
   "source": [
    "\"\"\"\n",
    "7. What function takes a Python data structure and returns a string of JSON data?\n",
    "Ans: dumps() function takes a Python data structure and returns a string of JSON data.\n",
    "\n",
    "\"\"\""
   ]
  }
 ],
 "metadata": {
  "kernelspec": {
   "display_name": "Python 3 (ipykernel)",
   "language": "python",
   "name": "python3"
  },
  "language_info": {
   "codemirror_mode": {
    "name": "ipython",
    "version": 3
   },
   "file_extension": ".py",
   "mimetype": "text/x-python",
   "name": "python",
   "nbconvert_exporter": "python",
   "pygments_lexer": "ipython3",
   "version": "3.9.12"
  }
 },
 "nbformat": 4,
 "nbformat_minor": 5
}
