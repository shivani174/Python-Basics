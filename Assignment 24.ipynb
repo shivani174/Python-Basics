{
 "cells": [
  {
   "cell_type": "code",
   "execution_count": null,
   "id": "473304af",
   "metadata": {},
   "outputs": [],
   "source": [
    "\"\"\"1. What is the relationship between def statements and lambda expressions ?\n",
    "\n",
    "Ans: def is used to create a function whereas lambda is used to create a anonymous function\n",
    "\n",
    "\"\"\"\n"
   ]
  },
  {
   "cell_type": "code",
   "execution_count": null,
   "id": "2ff60b73",
   "metadata": {},
   "outputs": [],
   "source": [
    "\"\"\"\n",
    "2. What is the benefit of lambda?\n",
    "Ans: we can add lambda function in a complex code because by making use of lambda function it will be easier to make a code concise.\n",
    "     we can assign lambda function to a variable and then it will be we can use variable and call the lambda function.\n",
    "\n",
    "\"\"\""
   ]
  },
  {
   "cell_type": "code",
   "execution_count": null,
   "id": "3a93238f",
   "metadata": {},
   "outputs": [],
   "source": [
    "\"\"\"3. Compare and contrast map, filter, and reduce.\n",
    "Ans: \n",
    "1. map(): This function takes another function as a parameteralong with a sequence of iterables and returns an output after \n",
    "applying the function to each iterable present in the sequence. \n",
    "2. filter(): The filter() function is used to create an output list consisting of values for which the function returns true.\n",
    "3. reduce(): The reduce() function, as the name describes, applies a given function to the iterables and returns a single value\n",
    "\"\"\""
   ]
  },
  {
   "cell_type": "code",
   "execution_count": null,
   "id": "82dc9df7",
   "metadata": {},
   "outputs": [],
   "source": [
    "\"\"\"4. What are function annotations, and how are they used?\n",
    "Ans: Function annotations provide a way of associating various parts of a function with arbitrary pythoncexpressions at compile time.   \n",
    "Annotations of simple parameters.Whereas the annotations for excess parameters.\n",
    "\n",
    "\"\"\""
   ]
  }
 ],
 "metadata": {
  "kernelspec": {
   "display_name": "Python 3 (ipykernel)",
   "language": "python",
   "name": "python3"
  },
  "language_info": {
   "codemirror_mode": {
    "name": "ipython",
    "version": 3
   },
   "file_extension": ".py",
   "mimetype": "text/x-python",
   "name": "python",
   "nbconvert_exporter": "python",
   "pygments_lexer": "ipython3",
   "version": "3.9.12"
  }
 },
 "nbformat": 4,
 "nbformat_minor": 5
}
