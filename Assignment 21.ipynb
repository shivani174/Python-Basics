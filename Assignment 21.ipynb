{
 "cells": [
  {
   "cell_type": "code",
   "execution_count": 1,
   "id": "004cb830",
   "metadata": {},
   "outputs": [
    {
     "name": "stdout",
     "output_type": "stream",
     "text": [
      "26-05-2023\n"
     ]
    }
   ],
   "source": [
    "\"\"\"1. Add the current date to the text file today.txt as a string.\"\"\"\n",
    "import datetime\n",
    "f = open('today.txt','w')\n",
    "f.write(datetime.datetime.now().strftime(\"%d-%m-%Y\"))\n",
    "f.close()\n",
    "f = open('today.txt','r')\n",
    "print(f.read())\n",
    "f.close()"
   ]
  },
  {
   "cell_type": "code",
   "execution_count": 2,
   "id": "73d86a85",
   "metadata": {},
   "outputs": [
    {
     "data": {
      "text/plain": [
       "'26-05-2023'"
      ]
     },
     "execution_count": 2,
     "metadata": {},
     "output_type": "execute_result"
    }
   ],
   "source": [
    "\"\"\"2. Read the text file today.txt into the string today_string\"\"\"\n",
    "f = open(\"today.txt\",'r')\n",
    "today_string = f.read()\n",
    "today_string"
   ]
  },
  {
   "cell_type": "code",
   "execution_count": 4,
   "id": "d560a849",
   "metadata": {},
   "outputs": [
    {
     "name": "stdout",
     "output_type": "stream",
     "text": [
      "2023-05-26 00:00:00\n"
     ]
    }
   ],
   "source": [
    "\"\"\"3. Parse the date from today_string.\"\"\"\n",
    "from datetime import datetime\n",
    "pd = datetime.strptime(today_string, '%d-%m-%Y')\n",
    "print(pd)"
   ]
  },
  {
   "cell_type": "code",
   "execution_count": null,
   "id": "e364efe5",
   "metadata": {},
   "outputs": [],
   "source": [
    "\"\"\"4. List the files in your current directory\"\"\"\n",
    "import os\n",
    "os.listdir()"
   ]
  },
  {
   "cell_type": "code",
   "execution_count": null,
   "id": "04b35da4",
   "metadata": {},
   "outputs": [],
   "source": [
    "\"\"\"5. Create a list of all of the files in your parent directory \n",
    "(minimum five files should be available).\"\"\"\n",
    "import os \n",
    "os.listdir()"
   ]
  },
  {
   "cell_type": "code",
   "execution_count": 12,
   "id": "7a962147",
   "metadata": {},
   "outputs": [
    {
     "name": "stdout",
     "output_type": "stream",
     "text": [
      "1997-06-15 00:00:00 <class 'datetime.datetime'>\n"
     ]
    }
   ],
   "source": [
    "\"\"\"6.Create a date object of your day of birth.\"\"\"\n",
    "from datetime import datetime\n",
    "dob = datetime.strptime('15/06/1997','%d/%m/%Y')\n",
    "print(dob, type(dob))"
   ]
  },
  {
   "cell_type": "code",
   "execution_count": 13,
   "id": "0c012e33",
   "metadata": {},
   "outputs": [
    {
     "data": {
      "text/plain": [
       "'Sunday'"
      ]
     },
     "execution_count": 13,
     "metadata": {},
     "output_type": "execute_result"
    }
   ],
   "source": [
    "\"\"\"8. What day of the week was your day of birth?\"\"\"\n",
    "from datetime import datetime\n",
    "dob = datetime(1997,6,15)\n",
    "dob.strftime(\"%A\")"
   ]
  },
  {
   "cell_type": "code",
   "execution_count": 14,
   "id": "981ab530",
   "metadata": {},
   "outputs": [
    {
     "data": {
      "text/plain": [
       "datetime.datetime(1969, 12, 5, 0, 0)"
      ]
     },
     "execution_count": 14,
     "metadata": {},
     "output_type": "execute_result"
    }
   ],
   "source": [
    "\"\"\"9. When will you be (or when were you) 10,000 days old?\"\"\"\n",
    "from datetime import datetime, timedelta\n",
    "dob = datetime.strptime(\"22/04/1997\",'%d/%m/%Y')\n",
    "fdate = dob-timedelta(10000)\n",
    "fdate"
   ]
  },
  {
   "cell_type": "code",
   "execution_count": null,
   "id": "5c093fef",
   "metadata": {},
   "outputs": [],
   "source": []
  }
 ],
 "metadata": {
  "kernelspec": {
   "display_name": "Python 3 (ipykernel)",
   "language": "python",
   "name": "python3"
  },
  "language_info": {
   "codemirror_mode": {
    "name": "ipython",
    "version": 3
   },
   "file_extension": ".py",
   "mimetype": "text/x-python",
   "name": "python",
   "nbconvert_exporter": "python",
   "pygments_lexer": "ipython3",
   "version": "3.9.12"
  }
 },
 "nbformat": 4,
 "nbformat_minor": 5
}
